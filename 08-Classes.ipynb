{
 "cells": [
  {
   "cell_type": "markdown",
   "metadata": {},
   "source": [
    "# 08 Python classes"
   ]
  },
  {
   "cell_type": "markdown",
   "metadata": {},
   "source": [
    "In Python user-defined data types are created using classes. The data type has attributes and methods associated with it. "
   ]
  },
  {
   "cell_type": "markdown",
   "metadata": {},
   "source": [
    "Without further ado, let's start with an example. Suppose you want to create a new `Student` (perhaps an AIMS student) data type. Use the keyword `class` to create the framework to contain the attributes and methods of the `Student` class."
   ]
  },
  {
   "cell_type": "code",
   "execution_count": null,
   "metadata": {
    "collapsed": false
   },
   "outputs": [],
   "source": [
    "class Student:\n",
    "    pass"
   ]
  },
  {
   "cell_type": "markdown",
   "metadata": {},
   "source": [
    "What attributes would we like the `Student` to have? We use a special `__init__` method to create attributes for an instance of the class, and set them to the values we have passed as arguments."
   ]
  },
  {
   "cell_type": "code",
   "execution_count": 2,
   "metadata": {
    "collapsed": false
   },
   "outputs": [],
   "source": [
    "class Student:\n",
    "    def __init__(self, username, name, country, background, email):\n",
    "        self.username = username\n",
    "        self.name     = name\n",
    "        self.country  = country\n",
    "        self.background=background\n",
    "        self.email  = email"
   ]
  },
  {
   "cell_type": "code",
   "execution_count": 18,
   "metadata": {
    "collapsed": false
   },
   "outputs": [],
   "source": [
    "student1 = Student(\"kelone\", \"Kelone\", \"Botswana\", \"Applied Math\", \"kelone@aims.ac.za\")"
   ]
  },
  {
   "cell_type": "code",
   "execution_count": 5,
   "metadata": {
    "collapsed": false
   },
   "outputs": [
    {
     "data": {
      "text/plain": [
       "'kelone'"
      ]
     },
     "execution_count": 5,
     "metadata": {},
     "output_type": "execute_result"
    }
   ],
   "source": [
    "student1.username"
   ]
  },
  {
   "cell_type": "code",
   "execution_count": 6,
   "metadata": {
    "collapsed": false
   },
   "outputs": [
    {
     "data": {
      "text/plain": [
       "'Botswana'"
      ]
     },
     "execution_count": 6,
     "metadata": {},
     "output_type": "execute_result"
    }
   ],
   "source": [
    "student1.country"
   ]
  },
  {
   "cell_type": "markdown",
   "metadata": {},
   "source": [
    "Notice the explicit argument `self`. It is a self-referencing pointer, which refers to the class instance. The `self` argument is the first argument of any method (a Python convention) that needs to access the attributes of the instance.   "
   ]
  },
  {
   "cell_type": "code",
   "execution_count": 14,
   "metadata": {
    "collapsed": false
   },
   "outputs": [],
   "source": [
    "class Student:\n",
    "    \n",
    "    skills =[\"Python\", \"Maths Problem Solving\"]\n",
    "    \n",
    "    def __init__(self, username, name, country, background, email):\n",
    "        self.username = username\n",
    "        self.name     = name\n",
    "        self.country  = country\n",
    "        self.background=background\n",
    "        self.email  = email\n",
    "        self.electives = []"
   ]
  },
  {
   "cell_type": "code",
   "execution_count": 15,
   "metadata": {
    "collapsed": false
   },
   "outputs": [
    {
     "ename": "TypeError",
     "evalue": "__init__() missing 1 required positional argument: 'electives'",
     "output_type": "error",
     "traceback": [
      "\u001b[0;31m---------------------------------------------------------------------------\u001b[0m",
      "\u001b[0;31mTypeError\u001b[0m                                 Traceback (most recent call last)",
      "\u001b[0;32m<ipython-input-15-19b6097ec941>\u001b[0m in \u001b[0;36m<module>\u001b[0;34m()\u001b[0m\n\u001b[0;32m----> 1\u001b[0;31m \u001b[0mstudent2\u001b[0m \u001b[0;34m=\u001b[0m \u001b[0mStudent\u001b[0m\u001b[0;34m(\u001b[0m\u001b[0;34m\"sandra\"\u001b[0m\u001b[0;34m,\u001b[0m \u001b[0;34m\"Sandra\"\u001b[0m\u001b[0;34m,\u001b[0m \u001b[0;34m\"Madagascar\"\u001b[0m\u001b[0;34m,\u001b[0m \u001b[0;34m\"Pure Mathematics\"\u001b[0m\u001b[0;34m,\u001b[0m \u001b[0;34m\"sandra@aims.ac.za\"\u001b[0m\u001b[0;34m)\u001b[0m\u001b[0;34m\u001b[0m\u001b[0m\n\u001b[0m",
      "\u001b[0;31mTypeError\u001b[0m: __init__() missing 1 required positional argument: 'electives'"
     ]
    }
   ],
   "source": [
    "student2 = Student(\"sandra\", \"Sandra\", \"Madagascar\", \"Pure Mathematics\", \"sandra@aims.ac.za\")"
   ]
  },
  {
   "cell_type": "code",
   "execution_count": 16,
   "metadata": {
    "collapsed": false
   },
   "outputs": [
    {
     "ename": "NameError",
     "evalue": "name 'student2' is not defined",
     "output_type": "error",
     "traceback": [
      "\u001b[0;31m---------------------------------------------------------------------------\u001b[0m",
      "\u001b[0;31mNameError\u001b[0m                                 Traceback (most recent call last)",
      "\u001b[0;32m<ipython-input-16-1b1432070762>\u001b[0m in \u001b[0;36m<module>\u001b[0;34m()\u001b[0m\n\u001b[0;32m----> 1\u001b[0;31m \u001b[0mstudent2\u001b[0m\u001b[0;34m.\u001b[0m\u001b[0mskills\u001b[0m\u001b[0;34m\u001b[0m\u001b[0m\n\u001b[0m",
      "\u001b[0;31mNameError\u001b[0m: name 'student2' is not defined"
     ]
    }
   ],
   "source": [
    "student2.skills"
   ]
  },
  {
   "cell_type": "code",
   "execution_count": 12,
   "metadata": {
    "collapsed": false
   },
   "outputs": [
    {
     "data": {
      "text/plain": [
       "['Python', 'Maths Problem Solving']"
      ]
     },
     "execution_count": 12,
     "metadata": {},
     "output_type": "execute_result"
    }
   ],
   "source": [
    "student1.skills"
   ]
  },
  {
   "cell_type": "code",
   "execution_count": 16,
   "metadata": {
    "collapsed": false
   },
   "outputs": [],
   "source": [
    "student2.electives.append(\"Quantum Mechanics\")"
   ]
  },
  {
   "cell_type": "code",
   "execution_count": 37,
   "metadata": {
    "collapsed": false
   },
   "outputs": [
    {
     "data": {
      "text/plain": [
       "['Quantum Mechanics']"
      ]
     },
     "execution_count": 37,
     "metadata": {},
     "output_type": "execute_result"
    }
   ],
   "source": [
    "student2.electives"
   ]
  },
  {
   "cell_type": "code",
   "execution_count": 19,
   "metadata": {
    "collapsed": true
   },
   "outputs": [],
   "source": [
    "student1.electives.append(\"Fluid Mechanics\")"
   ]
  },
  {
   "cell_type": "code",
   "execution_count": 20,
   "metadata": {
    "collapsed": false
   },
   "outputs": [
    {
     "data": {
      "text/plain": [
       "['Fluid Mechanics']"
      ]
     },
     "execution_count": 20,
     "metadata": {},
     "output_type": "execute_result"
    }
   ],
   "source": [
    "student1.electives"
   ]
  },
  {
   "cell_type": "markdown",
   "metadata": {},
   "source": [
    "Now suppose we need to add elective courses for each student. When a student decides which courses they will take, we need to add this information to an instance of the class. We can create a method to do this."
   ]
  },
  {
   "cell_type": "code",
   "execution_count": 43,
   "metadata": {
    "collapsed": false
   },
   "outputs": [],
   "source": [
    "class Student:\n",
    "    \n",
    "    skills =[\"Python\", \"Maths Problem Solving\"]\n",
    "    electives = []\n",
    "    \n",
    "    def __init__(self, username, name, country, background, email, electives):\n",
    "        self.username = username\n",
    "        self.name     = name\n",
    "        self.country  = country\n",
    "        self.background=background\n",
    "        self.email  = email\n",
    "        #self.electives = electives\n",
    "        \n",
    "    @classmethod\n",
    "    def add_skill(cls, course):\n",
    "        cls.skills.append(course)\n",
    "    \n",
    "    def add_elective(self, course):\n",
    "        self.electives.append(course)"
   ]
  },
  {
   "cell_type": "code",
   "execution_count": 44,
   "metadata": {
    "collapsed": true
   },
   "outputs": [],
   "source": [
    "student3 = Student(\"lambert\", \"lambert\", \"Burundi\", \"Applied Mathematics\", \"lambert@aims.ac.za\", [\"Qantum Python\"])"
   ]
  },
  {
   "cell_type": "code",
   "execution_count": 45,
   "metadata": {
    "collapsed": true
   },
   "outputs": [],
   "source": [
    "student3.add_elective(\"Quantum Python Part 2\")"
   ]
  },
  {
   "cell_type": "code",
   "execution_count": 46,
   "metadata": {
    "collapsed": false
   },
   "outputs": [],
   "source": [
    "student3.electives.append(\"Quantum Python Part 3\")"
   ]
  },
  {
   "cell_type": "code",
   "execution_count": 47,
   "metadata": {
    "collapsed": false
   },
   "outputs": [
    {
     "data": {
      "text/plain": [
       "['Quantum Python Part 2', 'Quantum Python Part 3']"
      ]
     },
     "execution_count": 47,
     "metadata": {},
     "output_type": "execute_result"
    }
   ],
   "source": [
    "student3.electives"
   ]
  },
  {
   "cell_type": "code",
   "execution_count": 48,
   "metadata": {
    "collapsed": true
   },
   "outputs": [],
   "source": [
    "student3.add_skill(\"Enterpreneurship\")"
   ]
  },
  {
   "cell_type": "code",
   "execution_count": 49,
   "metadata": {
    "collapsed": false
   },
   "outputs": [
    {
     "data": {
      "text/plain": [
       "['Python', 'Maths Problem Solving', 'Enterpreneurship']"
      ]
     },
     "execution_count": 49,
     "metadata": {},
     "output_type": "execute_result"
    }
   ],
   "source": [
    "student3.skills"
   ]
  },
  {
   "cell_type": "code",
   "execution_count": 50,
   "metadata": {
    "collapsed": false
   },
   "outputs": [
    {
     "ename": "NameError",
     "evalue": "name 'student2' is not defined",
     "output_type": "error",
     "traceback": [
      "\u001b[0;31m---------------------------------------------------------------------------\u001b[0m",
      "\u001b[0;31mNameError\u001b[0m                                 Traceback (most recent call last)",
      "\u001b[0;32m<ipython-input-50-f210d611fe7f>\u001b[0m in \u001b[0;36m<module>\u001b[0;34m()\u001b[0m\n\u001b[0;32m----> 1\u001b[0;31m \u001b[0mstudent2\u001b[0m\u001b[0;34m.\u001b[0m\u001b[0melectives\u001b[0m\u001b[0;34m\u001b[0m\u001b[0m\n\u001b[0m",
      "\u001b[0;31mNameError\u001b[0m: name 'student2' is not defined"
     ]
    }
   ],
   "source": [
    "student2.electives"
   ]
  },
  {
   "cell_type": "code",
   "execution_count": 51,
   "metadata": {
    "collapsed": true
   },
   "outputs": [],
   "source": [
    "student4 = Student(\"yasser\", \"\", \"Algeria\", \"Statistics\", \"yasser@aims.ac.za\", [\"Statistics\"])"
   ]
  },
  {
   "cell_type": "code",
   "execution_count": 52,
   "metadata": {
    "collapsed": false
   },
   "outputs": [
    {
     "data": {
      "text/plain": [
       "['Python', 'Maths Problem Solving', 'Enterpreneurship']"
      ]
     },
     "execution_count": 52,
     "metadata": {},
     "output_type": "execute_result"
    }
   ],
   "source": [
    "student4.skills"
   ]
  },
  {
   "cell_type": "code",
   "execution_count": 54,
   "metadata": {
    "collapsed": false
   },
   "outputs": [],
   "source": [
    "Student.add_skill(\"Computing and Latex\")"
   ]
  },
  {
   "cell_type": "code",
   "execution_count": 55,
   "metadata": {
    "collapsed": true
   },
   "outputs": [],
   "source": [
    "student4.skills.append(\"Physic Problem Solving\")"
   ]
  },
  {
   "cell_type": "code",
   "execution_count": 59,
   "metadata": {
    "collapsed": false
   },
   "outputs": [
    {
     "data": {
      "text/plain": [
       "['Python',\n",
       " 'Maths Problem Solving',\n",
       " 'Enterpreneurship',\n",
       " 'Computing and Latex',\n",
       " 'Computing and Latex',\n",
       " 'Physic Problem Solving']"
      ]
     },
     "execution_count": 59,
     "metadata": {},
     "output_type": "execute_result"
    }
   ],
   "source": [
    "student4.skills"
   ]
  },
  {
   "cell_type": "markdown",
   "metadata": {},
   "source": [
    "Now if we look in `dir` we get a list of attributes and methods associated with our class. By default, defining a class we get some attributes and methods already predefined. To the list of `dir`, we've added our own attriubtes and methods."
   ]
  },
  {
   "cell_type": "code",
   "execution_count": null,
   "metadata": {
    "collapsed": false
   },
   "outputs": [],
   "source": []
  },
  {
   "cell_type": "markdown",
   "metadata": {},
   "source": [
    "### <font color=\"blue\">Exercise</font>"
   ]
  },
  {
   "cell_type": "markdown",
   "metadata": {},
   "source": [
    "Paraphrasing exercise 3 on page 86 of the book. "
   ]
  },
  {
   "cell_type": "markdown",
   "metadata": {},
   "source": [
    "Create a data type to manage a single bank account. The account is held in US dollars, USD, but to function in the currencies of the AIMS centres, *Currency:= {GHS, RWF, TZS, ZAF, ZOF, ZAR}*,\n",
    "\n",
    "which may be assumed to satisfy:\n",
    "\n",
    "                              1 USD = \n",
    "                -----------------------\n",
    "                Ghana         3.899\n",
    "                Rwanda        804.320\n",
    "                Tanzania      2139.200\n",
    "                Cameroon      587.570\n",
    "                Senegal       587.570\n",
    "                South Africa  13.437\n",
    "                \n",
    "The account must support the following methods, with balance in USD.\n",
    "1.  *Clear(x,c)*. Set the account to *0 USD* and output as *x* the previous balance converted to currency *c: Currency*.\n",
    "\n",
    "2.  *Deposit(x,c)*. Deposit the amount *x* in the nominated currency *c:Currency* into the account (in *USD*).\n",
    "\n",
    "3.  *Withdraw(x,c)*. Withdraw the amount *x* in nominated currency *c:Currency* from the account provided the balance remains non-negative; otherwise the transaction fails."
   ]
  },
  {
   "cell_type": "code",
   "execution_count": 48,
   "metadata": {
    "collapsed": false
   },
   "outputs": [],
   "source": [
    "class Account:\n",
    "    def __init__(self, balance, rates):\n",
    "        self.balance = balance\n",
    "        self.rates   = rates\n",
    "        \n",
    "    def clear(self, c):\n",
    "        print(self.rates[c]*self.balance)\n",
    "        self.balance = 0\n",
    "        \n",
    "    def withdraw(self, x, c):\n",
    "        if self.balance <= 0 or x/self.rates[c] > self.balance:\n",
    "            print(\"Transaction not allowed\")\n",
    "        else:\n",
    "            self.balance = self.balance - (x/self.rates[c])\n",
    "            \n",
    "    def deposit(self, x, c):\n",
    "            self.balance = self.balance + (x/self.rates[c])"
   ]
  },
  {
   "cell_type": "code",
   "execution_count": 49,
   "metadata": {
    "collapsed": true
   },
   "outputs": [],
   "source": [
    "currencies = {\"GHS\":        3.899,\n",
    "               \"RWF\":       804.320,\n",
    "               \"TZS\":       2139.200,\n",
    "               \"ZAF\" :     587.570,\n",
    "               \"ZOF\":       587.570, \n",
    "               \"ZAR\":  13.437}"
   ]
  },
  {
   "cell_type": "code",
   "execution_count": 50,
   "metadata": {
    "collapsed": true
   },
   "outputs": [],
   "source": [
    "account = Account(200, currencies)"
   ]
  },
  {
   "cell_type": "code",
   "execution_count": null,
   "metadata": {
    "collapsed": true
   },
   "outputs": [],
   "source": []
  },
  {
   "cell_type": "code",
   "execution_count": 53,
   "metadata": {
    "collapsed": false
   },
   "outputs": [],
   "source": [
    "account.deposit(20000, \"ZAR\")"
   ]
  },
  {
   "cell_type": "code",
   "execution_count": 54,
   "metadata": {
    "collapsed": false
   },
   "outputs": [
    {
     "data": {
      "text/plain": [
       "1688.5813619829094"
      ]
     },
     "execution_count": 54,
     "metadata": {},
     "output_type": "execute_result"
    }
   ],
   "source": [
    "account.balance"
   ]
  },
  {
   "cell_type": "markdown",
   "metadata": {},
   "source": [
    "If you want more practice in creating your own data types, here's an exercise to create a stack data type.\n",
    "\n",
    "With a stack, one can add elements to the top of it and only remove elements from the top of it. Create a stack data type with the following operations.\n",
    "1. Initialise the stack with an upper bound.\n",
    "2. *Push(in)*, which adds an input *in* to the top of the stack if the stack has not reached full capacity.\n",
    "3. *Pop(out)*, which removes and outputs the top element on the stack if the stack is not empyty."
   ]
  },
  {
   "cell_type": "code",
   "execution_count": null,
   "metadata": {
    "collapsed": true
   },
   "outputs": [],
   "source": []
  },
  {
   "cell_type": "code",
   "execution_count": null,
   "metadata": {
    "collapsed": true
   },
   "outputs": [],
   "source": []
  }
 ],
 "metadata": {
  "kernelspec": {
   "display_name": "Python 3",
   "language": "python",
   "name": "python3"
  },
  "language_info": {
   "codemirror_mode": {
    "name": "ipython",
    "version": 3
   },
   "file_extension": ".py",
   "mimetype": "text/x-python",
   "name": "python",
   "nbconvert_exporter": "python",
   "pygments_lexer": "ipython3",
   "version": "3.5.3"
  }
 },
 "nbformat": 4,
 "nbformat_minor": 0
}
