{
 "cells": [
  {
   "cell_type": "markdown",
   "metadata": {},
   "source": [
    "# 1.04- Errors and Exceptions"
   ]
  },
  {
   "cell_type": "markdown",
   "metadata": {},
   "source": [
    "An error is a mistake, an act, assertion, or belief that unintentionally deviates from what is correct, right or true. In Python as in any other advanced programming languages, there are three types of errors: \n",
    "\n",
    "* **Syntax (Parsing) Errors**\n",
    "* **Logic Errors**\n",
    "* **and Runtime Errors (Exceptions)**. \n",
    "<br><br>\n",
    "* Syntax error is detected during compilation of the code (it is what we call commonly **Error**). They are mostly experienced by novices such as indentation, call of *elif* without previous *if*, use a variable before its creation... With syntax errors, the program cannot be run until it is fixed. \n",
    "* Logic error is not detected by the compiler but gives wrong result. It is just a matter of your brain, shake it a little bit...laugh\n",
    "* Finally Runtime Error is what we call **Exceptions**, they are detected in running the program. Open an unexisted file, divide to value to zero, use an index of list out of its range, converting a list to an integer or any other numeric...\n",
    "\n",
    "<br><br>\n",
    "<font color=\"red\">\n",
    "<u><b>Learning Objectives</b></u>\n",
    "<div class=\"panel-body\">\n",
    "<ul>\n",
    "<li>Defintion of errors and exceptions.</li>\n",
    "<li>How to fix errors and how to handle exceptions.</li>\n",
    "<li>Prevention of exceptions.</li>\n",
    "</ul>\n",
    "</div>\n",
    "</font>\n",
    "\n",
    " ## A. Error (Syntax Error)"
   ]
  },
  {
   "cell_type": "code",
   "execution_count": null,
   "metadata": {
    "collapsed": true
   },
   "outputs": [],
   "source": [
    "b=11\n",
    " c=b"
   ]
  },
  {
   "cell_type": "markdown",
   "metadata": {},
   "source": [
    "Why are the following codes incorrect?"
   ]
  },
  {
   "cell_type": "code",
   "execution_count": null,
   "metadata": {
    "collapsed": true
   },
   "outputs": [],
   "source": [
    "elif b==10: print(\"This is true\")"
   ]
  },
  {
   "cell_type": "code",
   "execution_count": null,
   "metadata": {
    "collapsed": true
   },
   "outputs": [],
   "source": [
    "a=10.\n",
    "if a>5: print(\"greater than 5\") else: print(\"less than 5\") "
   ]
  },
  {
   "cell_type": "markdown",
   "metadata": {},
   "source": [
    "** The syntax errors are due to the immaturity of the programmers. But more you make errors, more you become mature. A syntax error cannot be handled.**"
   ]
  },
  {
   "cell_type": "markdown",
   "metadata": {},
   "source": [
    "## B. Logic Error\n",
    "\n",
    "Is this code correct?"
   ]
  },
  {
   "cell_type": "code",
   "execution_count": 1,
   "metadata": {},
   "outputs": [
    {
     "name": "stdout",
     "output_type": "stream",
     "text": [
      "18.84955592153876\n"
     ]
    }
   ],
   "source": [
    "#Area of a rectangle\n",
    "from math import pi\n",
    "width=3.\n",
    "height=2.\n",
    "area=pi*width*height\n",
    "print(area)"
   ]
  },
  {
   "cell_type": "markdown",
   "metadata": {},
   "source": [
    "**The only way to handle logic error is to check your brain...If not, humble yourself and ask questions to your colleagues.**"
   ]
  },
  {
   "cell_type": "markdown",
   "metadata": {},
   "source": [
    "## C. Exception (Runtime Error)"
   ]
  },
  {
   "cell_type": "code",
   "execution_count": null,
   "metadata": {
    "collapsed": true
   },
   "outputs": [],
   "source": [
    "a=input(\"read a string as value: \")\n",
    "int(a)"
   ]
  },
  {
   "cell_type": "code",
   "execution_count": null,
   "metadata": {
    "collapsed": true
   },
   "outputs": [],
   "source": [
    "print (\"the value of d is: \", d)"
   ]
  },
  {
   "cell_type": "code",
   "execution_count": null,
   "metadata": {
    "collapsed": true
   },
   "outputs": [],
   "source": [
    "in_value=10.0\n",
    "out_value=in_value/0\n",
    "print (out_value)"
   ]
  },
  {
   "cell_type": "markdown",
   "metadata": {},
   "source": [
    "The types of exceptions of your codes have to be known in advance (design space). The exceptions could not be shown in your own computer but to a tierce. \n",
    "\n",
    "Imagine in your code you open a file saved in your home with a full path of your computer, \n",
    "\n",
    "**(ex. /home/jmf/Documents/python2017) **,\n",
    "\n",
    "and you give exactly the same code to your friend. The username of your brother's computer is not **jmf** as shown in the path, an exception will occur."
   ]
  },
  {
   "cell_type": "markdown",
   "metadata": {},
   "source": [
    "### Handle with Exceptions\n",
    "\n",
    "~~~ {.python}\n",
    "try:\n",
    "    #error susceptible codes\n",
    "except typeofError as var_n:\n",
    "    #Error treatment\n",
    "except typeofError:\n",
    "    #Error treatment\n",
    "except:\n",
    "    #Error treatment\n",
    "finally:\n",
    "    #clean codes\n",
    "~~~\n",
    "\n",
    "#### Types of exceptions in Python:\n",
    "\n",
    "ZeroDivisionError, ValueError, IOError, NameError, TypeError, ...."
   ]
  },
  {
   "cell_type": "markdown",
   "metadata": {},
   "source": [
    "#### Handle an exception without specifying its type:"
   ]
  },
  {
   "cell_type": "code",
   "execution_count": 9,
   "metadata": {},
   "outputs": [
    {
     "name": "stdout",
     "output_type": "stream",
     "text": [
      "Read a float for n: 5\n",
      "Read a float for d: 5\n",
      "The quotient is:  1.0\n"
     ]
    }
   ],
   "source": [
    "n=float(input(\"Read a float for n: \"))\n",
    "d=float(input(\"Read a float for d: \"))\n",
    "try:\n",
    "    q=n/d\n",
    "    print(\"The quotient is: \", q)\n",
    "except:\n",
    "    print (\"Error\")"
   ]
  },
  {
   "cell_type": "markdown",
   "metadata": {},
   "source": [
    "#### Try... Except ... Finally"
   ]
  },
  {
   "cell_type": "code",
   "execution_count": 27,
   "metadata": {},
   "outputs": [
    {
     "name": "stdout",
     "output_type": "stream",
     "text": [
      "Read a float for n: 5\n",
      "Read a float for d: 4\n",
      "The quotient is:  1.25\n",
      "The end of the code\n"
     ]
    }
   ],
   "source": [
    "n=float(input(\"Read a float for n: \"))\n",
    "d=float(input(\"Read a float for d: \"))\n",
    "try:\n",
    "    q=n/d\n",
    "    print(\"The quotient is: \", q)\n",
    "except:\n",
    "    print (\"Error\")\n",
    "finally:\n",
    "    print(\"The end of the code\")"
   ]
  },
  {
   "cell_type": "markdown",
   "metadata": {},
   "source": [
    "#### Handle an exception by specifying its type:"
   ]
  },
  {
   "cell_type": "code",
   "execution_count": 11,
   "metadata": {},
   "outputs": [
    {
     "name": "stdout",
     "output_type": "stream",
     "text": [
      "Read a float for n: 0\n",
      "Read a float for d: 0\n",
      "float division by zero\n"
     ]
    }
   ],
   "source": [
    "n=float(input(\"Read a float for n: \"))\n",
    "d=float(input(\"Read a float for d: \"))\n",
    "try:\n",
    "    q=n/d\n",
    "    print(\"The quotient is: \", q)\n",
    "except ZeroDivisionError as err_name:\n",
    "    print(err_name)"
   ]
  },
  {
   "cell_type": "markdown",
   "metadata": {},
   "source": [
    "#### Wrong error reference"
   ]
  },
  {
   "cell_type": "code",
   "execution_count": 23,
   "metadata": {},
   "outputs": [
    {
     "name": "stdout",
     "output_type": "stream",
     "text": [
      "read a string as value: g\n"
     ]
    },
    {
     "ename": "ValueError",
     "evalue": "invalid literal for int() with base 10: 'g'",
     "output_type": "error",
     "traceback": [
      "\u001b[0;31m---------------------------------------------------------------------------\u001b[0m",
      "\u001b[0;31mValueError\u001b[0m                                Traceback (most recent call last)",
      "\u001b[0;32m<ipython-input-23-2c0f6a3a51f3>\u001b[0m in \u001b[0;36m<module>\u001b[0;34m()\u001b[0m\n\u001b[1;32m      1\u001b[0m \u001b[0;32mtry\u001b[0m\u001b[0;34m:\u001b[0m\u001b[0;34m\u001b[0m\u001b[0m\n\u001b[1;32m      2\u001b[0m     \u001b[0ma\u001b[0m\u001b[0;34m=\u001b[0m\u001b[0minput\u001b[0m\u001b[0;34m(\u001b[0m\u001b[0;34m\"read a string as value: \"\u001b[0m\u001b[0;34m)\u001b[0m\u001b[0;34m\u001b[0m\u001b[0m\n\u001b[0;32m----> 3\u001b[0;31m     \u001b[0mb\u001b[0m\u001b[0;34m=\u001b[0m\u001b[0mint\u001b[0m\u001b[0;34m(\u001b[0m\u001b[0ma\u001b[0m\u001b[0;34m)\u001b[0m\u001b[0;34m\u001b[0m\u001b[0m\n\u001b[0m\u001b[1;32m      4\u001b[0m     \u001b[0mprint\u001b[0m\u001b[0;34m(\u001b[0m\u001b[0;34m\"The integer is: \"\u001b[0m\u001b[0;34m,\u001b[0m \u001b[0mb\u001b[0m\u001b[0;34m)\u001b[0m\u001b[0;34m\u001b[0m\u001b[0m\n\u001b[1;32m      5\u001b[0m \u001b[0;32mexcept\u001b[0m \u001b[0mNameError\u001b[0m \u001b[0;32mas\u001b[0m \u001b[0merr_name\u001b[0m\u001b[0;34m:\u001b[0m\u001b[0;34m\u001b[0m\u001b[0m\n",
      "\u001b[0;31mValueError\u001b[0m: invalid literal for int() with base 10: 'g'"
     ]
    }
   ],
   "source": [
    "try:\n",
    "    a=input(\"read a string as value: \")\n",
    "    b=int(a)\n",
    "    print(\"The integer is: \", b)\n",
    "except NameError as err_name:\n",
    "    print (err_name)"
   ]
  },
  {
   "cell_type": "code",
   "execution_count": 24,
   "metadata": {},
   "outputs": [
    {
     "name": "stdout",
     "output_type": "stream",
     "text": [
      "read a string as value: h\n",
      "invalid literal for int() with base 10: 'h'\n"
     ]
    }
   ],
   "source": [
    "try:\n",
    "    a=input(\"read a string as value: \")\n",
    "    b=int(a)\n",
    "    print(\"The integer is: \", b)\n",
    "except ValueError as err_name:\n",
    "    print (err_name)"
   ]
  },
  {
   "cell_type": "markdown",
   "metadata": {},
   "source": [
    "#### Wrong reference of exception"
   ]
  },
  {
   "cell_type": "code",
   "execution_count": 15,
   "metadata": {},
   "outputs": [
    {
     "name": "stdout",
     "output_type": "stream",
     "text": [
      "Read a float for n: 5\n",
      "Read a float for d: 0\n"
     ]
    },
    {
     "ename": "ZeroDivisionError",
     "evalue": "float division by zero",
     "output_type": "error",
     "traceback": [
      "\u001b[0;31m---------------------------------------------------------------------------\u001b[0m",
      "\u001b[0;31mZeroDivisionError\u001b[0m                         Traceback (most recent call last)",
      "\u001b[0;32m<ipython-input-15-a72d976d3eb2>\u001b[0m in \u001b[0;36m<module>\u001b[0;34m()\u001b[0m\n\u001b[1;32m      2\u001b[0m \u001b[0md\u001b[0m\u001b[0;34m=\u001b[0m\u001b[0mfloat\u001b[0m\u001b[0;34m(\u001b[0m\u001b[0minput\u001b[0m\u001b[0;34m(\u001b[0m\u001b[0;34m\"Read a float for d: \"\u001b[0m\u001b[0;34m)\u001b[0m\u001b[0;34m)\u001b[0m\u001b[0;34m\u001b[0m\u001b[0m\n\u001b[1;32m      3\u001b[0m \u001b[0;32mtry\u001b[0m\u001b[0;34m:\u001b[0m\u001b[0;34m\u001b[0m\u001b[0m\n\u001b[0;32m----> 4\u001b[0;31m     \u001b[0mq\u001b[0m\u001b[0;34m=\u001b[0m\u001b[0mn\u001b[0m\u001b[0;34m/\u001b[0m\u001b[0md\u001b[0m\u001b[0;34m\u001b[0m\u001b[0m\n\u001b[0m\u001b[1;32m      5\u001b[0m     \u001b[0mprint\u001b[0m\u001b[0;34m(\u001b[0m\u001b[0;34m\"The quotient is: \"\u001b[0m\u001b[0;34m,\u001b[0m \u001b[0mq\u001b[0m\u001b[0;34m)\u001b[0m\u001b[0;34m\u001b[0m\u001b[0m\n\u001b[1;32m      6\u001b[0m \u001b[0;32mexcept\u001b[0m \u001b[0mNameError\u001b[0m \u001b[0;32mas\u001b[0m \u001b[0merr_name\u001b[0m\u001b[0;34m:\u001b[0m\u001b[0;34m\u001b[0m\u001b[0m\n",
      "\u001b[0;31mZeroDivisionError\u001b[0m: float division by zero"
     ]
    }
   ],
   "source": [
    "n=float(input(\"Read a float for n: \"))\n",
    "d=float(input(\"Read a float for d: \"))\n",
    "try:\n",
    "    q=n/d\n",
    "    print(\"The quotient is: \", q)\n",
    "except NameError as err_name:\n",
    "    print (err_name)"
   ]
  },
  {
   "cell_type": "code",
   "execution_count": null,
   "metadata": {
    "collapsed": true
   },
   "outputs": [],
   "source": [
    "# propose a right reference"
   ]
  },
  {
   "cell_type": "markdown",
   "metadata": {},
   "source": [
    "#### Example 1\n",
    "\n",
    "Can the following code raise an exception? If Yes, when?"
   ]
  },
  {
   "cell_type": "code",
   "execution_count": 11,
   "metadata": {
    "collapsed": true
   },
   "outputs": [],
   "source": [
    "def sumof(x):\n",
    "    n=len(x)\n",
    "    s=0\n",
    "    for i in range(n):\n",
    "        s+=x[i]\n",
    "    return s  "
   ]
  },
  {
   "cell_type": "code",
   "execution_count": 12,
   "metadata": {},
   "outputs": [
    {
     "data": {
      "text/plain": [
       "13"
      ]
     },
     "execution_count": 12,
     "metadata": {},
     "output_type": "execute_result"
    }
   ],
   "source": [
    "x=[2,4,7]\n",
    "sumof(x)"
   ]
  },
  {
   "cell_type": "markdown",
   "metadata": {},
   "source": [
    "Fix your code in case of Yes to the first question"
   ]
  },
  {
   "cell_type": "code",
   "execution_count": null,
   "metadata": {
    "collapsed": true
   },
   "outputs": [],
   "source": [
    "# my code"
   ]
  },
  {
   "cell_type": "markdown",
   "metadata": {},
   "source": [
    "#### Example 2\n",
    "\n",
    "Can the following code give an exception? If Yes, when?"
   ]
  },
  {
   "cell_type": "code",
   "execution_count": 7,
   "metadata": {
    "collapsed": true
   },
   "outputs": [],
   "source": [
    "def powerof(x, y):\n",
    "    return x**y"
   ]
  },
  {
   "cell_type": "code",
   "execution_count": 10,
   "metadata": {},
   "outputs": [
    {
     "data": {
      "text/plain": [
       "3"
      ]
     },
     "execution_count": 10,
     "metadata": {},
     "output_type": "execute_result"
    }
   ],
   "source": [
    "x=3\n",
    "y=1\n",
    "powerof(x, y)"
   ]
  },
  {
   "cell_type": "markdown",
   "metadata": {},
   "source": [
    "Fix your code in case of **Yes** to the first question"
   ]
  },
  {
   "cell_type": "code",
   "execution_count": null,
   "metadata": {
    "collapsed": true
   },
   "outputs": [],
   "source": [
    "#your code"
   ]
  },
  {
   "cell_type": "markdown",
   "metadata": {},
   "source": [
    "## Bonus: Python documentation "
   ]
  },
  {
   "cell_type": "code",
   "execution_count": 4,
   "metadata": {
    "collapsed": true
   },
   "outputs": [],
   "source": [
    "import numpy as np\n",
    "def fxname(A, p):\n",
    "    \"\"\"\n",
    "    Returns a...\n",
    "    \n",
    "    Parameters\n",
    "    ----------\n",
    "    A: matrix of size n x m\n",
    "    p: number of\n",
    "    \"\"\"\n",
    "    farthest=[]\n",
    "    for k in range(p):\n",
    "        index=np.argmax(A)\n",
    "        i, j= getI(index, n, n)\n",
    "        farthest.append(data[i])\n",
    "        farthest.append(data[j])\n",
    "        A[i, j]=0\n",
    "        A[j, i]=0\n",
    "    return farthest"
   ]
  },
  {
   "cell_type": "code",
   "execution_count": 5,
   "metadata": {},
   "outputs": [
    {
     "name": "stdout",
     "output_type": "stream",
     "text": [
      "Help on function fxname in module __main__:\n",
      "\n",
      "fxname(A, p)\n",
      "    Returns a...\n",
      "    \n",
      "    Parameters\n",
      "    ----------\n",
      "    A: matrix of size n x m\n",
      "    p: number of\n",
      "\n"
     ]
    }
   ],
   "source": [
    "help(fxname)"
   ]
  },
  {
   "cell_type": "code",
   "execution_count": null,
   "metadata": {
    "collapsed": true
   },
   "outputs": [],
   "source": []
  }
 ],
 "metadata": {
  "kernelspec": {
   "display_name": "Python 3",
   "language": "python",
   "name": "python3"
  },
  "language_info": {
   "codemirror_mode": {
    "name": "ipython",
    "version": 3
   },
   "file_extension": ".py",
   "mimetype": "text/x-python",
   "name": "python",
   "nbconvert_exporter": "python",
   "pygments_lexer": "ipython3",
   "version": "3.5.2"
  }
 },
 "nbformat": 4,
 "nbformat_minor": 1
}
